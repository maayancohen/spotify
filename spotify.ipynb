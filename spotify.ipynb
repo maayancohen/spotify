{
  "nbformat": 4,
  "nbformat_minor": 0,
  "metadata": {
    "colab": {
      "provenance": [],
      "authorship_tag": "ABX9TyPrNCyEKVAvLVxCQXkfDnzh",
      "include_colab_link": true
    },
    "kernelspec": {
      "name": "python3",
      "display_name": "Python 3"
    },
    "language_info": {
      "name": "python"
    }
  },
  "cells": [
    {
      "cell_type": "markdown",
      "metadata": {
        "id": "view-in-github",
        "colab_type": "text"
      },
      "source": [
        "<a href=\"https://colab.research.google.com/github/maayancohen/spotify/blob/main/spotify.ipynb\" target=\"_parent\"><img src=\"https://colab.research.google.com/assets/colab-badge.svg\" alt=\"Open In Colab\"/></a>"
      ]
    },
    {
      "cell_type": "code",
      "execution_count": null,
      "metadata": {
        "id": "6FRk1WlKjxug"
      },
      "outputs": [],
      "source": [
        "!pip install spotipy\n",
        "import spotipy\n",
        "from spotipy.oauth2 import SpotifyClientCredentials"
      ]
    },
    {
      "cell_type": "code",
      "source": [
        "sp = spotipy.Spotify(auth_manager=SpotifyClientCredentials(client_id=\"fbfdb55f168c41d0a7c85512b8c4b44e\",\n",
        "                                                           client_secret=\"76fe8602a8af4f59b8b12fc3223aee54\"))\n",
        "\n",
        "results = sp.search(q='nick cave', limit=20)\n",
        "for idx, track in enumerate(results['tracks']['items']):\n",
        "    print(idx, track['name'])"
      ],
      "metadata": {
        "colab": {
          "base_uri": "https://localhost:8080/"
        },
        "id": "9zfcwyE0kDiM",
        "outputId": "d3dd43ba-bf3d-4754-a21c-2964c7b89a7e"
      },
      "execution_count": 6,
      "outputs": [
        {
          "output_type": "stream",
          "name": "stdout",
          "text": [
            "0 O Children\n",
            "1 Into My Arms - 2011 Remastered Version\n",
            "2 Red Right Hand - 2011 Remastered Version\n",
            "3 End Credits (from the Netflix Series \"Dahmer Monster: The Jeffrey Dahmer Story\")\n",
            "4 Red Right Hand - Peaky Blinders Theme;Flood Remix\n",
            "5 Breathless\n",
            "6 Song for Jesse\n",
            "7 The Mercy Seat - 2010 Remastered Version\n",
            "8 (Are You) the One That I've Been Waiting For? - 2011 Remastered Version\n",
            "9 People Ain't No Good - 2011 Remastered Version\n",
            "10 Where the Wild Roses Grow - 2011 - Remaster\n",
            "11 The Road\n",
            "12 Red Right Hand\n",
            "13 Henry Lee (feat. PJ Harvey) - 2011 Remastered Version\n",
            "14 Nick Cave In\n",
            "15 Do You Love Me? - 2011 Remastered Version\n",
            "16 The Ship Song - 2010 Remastered Version\n",
            "17 Song for Bob\n",
            "18 Stagger Lee - 2011 Remastered Version\n",
            "19 Brompton Oratory - 2011 Remastered Version\n"
          ]
        }
      ]
    },
    {
      "cell_type": "code",
      "source": [
        "playlist_link = \"https://open.spotify.com/playlist/37i9dQZEVXbNG2KDcFcKOF?si=1333723a6eff4b7f\"\n",
        "playlist_URI = playlist_link.split(\"/\")[-1].split(\"?\")[0]\n",
        "track_uris = [x[\"track\"][\"uri\"] for x in sp.playlist_tracks(playlist_URI)[\"items\"]]"
      ],
      "metadata": {
        "id": "FA7pJ6O6nStg"
      },
      "execution_count": 7,
      "outputs": []
    },
    {
      "cell_type": "code",
      "source": [
        "for track in sp.playlist_tracks(playlist_URI)[\"items\"]:\n",
        "    #URI\n",
        "    track_uri = track[\"track\"][\"uri\"]\n",
        "    \n",
        "    #Track name\n",
        "    track_name = track[\"track\"][\"name\"]\n",
        "    \n",
        "    #Main Artist\n",
        "    artist_uri = track[\"track\"][\"artists\"][0][\"uri\"]\n",
        "    artist_info = sp.artist(artist_uri)\n",
        "    \n",
        "    #Name, popularity, genre\n",
        "    artist_name = track[\"track\"][\"artists\"][0][\"name\"]\n",
        "    artist_pop = artist_info[\"popularity\"]\n",
        "    artist_genres = artist_info[\"genres\"]\n",
        "    \n",
        "    #Album\n",
        "    album = track[\"track\"][\"album\"][\"name\"]\n",
        "    \n",
        "    #Popularity of the track\n",
        "    track_pop = track[\"track\"][\"popularity\"]"
      ],
      "metadata": {
        "id": "Dz1UMEdBoNvt"
      },
      "execution_count": 8,
      "outputs": []
    },
    {
      "cell_type": "code",
      "source": [
        "sp.audio_features(track_uri)[0]"
      ],
      "metadata": {
        "colab": {
          "base_uri": "https://localhost:8080/"
        },
        "id": "NAWBZ9iEoRk9",
        "outputId": "e2725d86-96a2-44f4-be98-38c33121c0bd"
      },
      "execution_count": 11,
      "outputs": [
        {
          "output_type": "execute_result",
          "data": {
            "text/plain": [
              "{'danceability': 0.323,\n",
              " 'energy': 0.737,\n",
              " 'key': 10,\n",
              " 'loudness': -4.008,\n",
              " 'mode': 1,\n",
              " 'speechiness': 0.0338,\n",
              " 'acousticness': 0.142,\n",
              " 'instrumentalness': 0.000162,\n",
              " 'liveness': 0.163,\n",
              " 'valence': 0.155,\n",
              " 'tempo': 113.26,\n",
              " 'type': 'audio_features',\n",
              " 'id': '1cKHdTo9u0ZymJdPGSh6nq',\n",
              " 'uri': 'spotify:track:1cKHdTo9u0ZymJdPGSh6nq',\n",
              " 'track_href': 'https://api.spotify.com/v1/tracks/1cKHdTo9u0ZymJdPGSh6nq',\n",
              " 'analysis_url': 'https://api.spotify.com/v1/audio-analysis/1cKHdTo9u0ZymJdPGSh6nq',\n",
              " 'duration_ms': 241067,\n",
              " 'time_signature': 4}"
            ]
          },
          "metadata": {},
          "execution_count": 11
        }
      ]
    },
    {
      "cell_type": "code",
      "source": [],
      "metadata": {
        "id": "tGsmg-dPoVIy"
      },
      "execution_count": null,
      "outputs": []
    }
  ]
}